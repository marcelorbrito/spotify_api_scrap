{
  "nbformat": 4,
  "nbformat_minor": 0,
  "metadata": {
    "colab": {
      "provenance": []
    },
    "kernelspec": {
      "name": "python3",
      "display_name": "Python 3"
    },
    "language_info": {
      "name": "python"
    }
  },
  "cells": [
    {
      "cell_type": "code",
      "execution_count": null,
      "metadata": {
        "id": "Z64j_Rz0CJbA"
      },
      "outputs": [],
      "source": [
        "import requests\n",
        "import pandas as pd\n",
        "import datetime\n",
        "from spotipy import Spotify\n",
        "from spotipy.oauth2 import SpotifyClientCredentials\n",
        "\n",
        "# Definir as credenciais (substitua pelos seus valores do Spotify Developer)\n",
        "CLIENT_ID = \"client_id\" # Sua id o app spotify\n",
        "CLIENT_SECRET = \"cliente_secret\" # Sua senha do app\n",
        "\n",
        "# Autenticação\n",
        "client_credentials_manager = SpotifyClientCredentials(client_id=CLIENT_ID, client_secret=CLIENT_SECRET)\n",
        "sp = Spotify(client_credentials_manager=client_credentials_manager)\n",
        "\n",
        "# Buscar o ID do artista\n",
        "artist_name = \"artista\"  #Altere para o artista que procura\n",
        "results = sp.search(q=f\"artist:{artist_name}\", type=\"artist\")\n",
        "avantasia_id = results['artists']['items'][0]['id']\n",
        "\n",
        "# Buscar todos os álbuns do artista\n",
        "albums = sp.artist_albums(avantasia_id, album_type='album', limit=50)\n",
        "\n",
        "data = []\n",
        "collection_date = datetime.datetime.today().strftime('%Y-%m-%d')\n",
        "\n",
        "for album in albums['items']:\n",
        "    album_name = album['name']\n",
        "    release_date = album['release_date']\n",
        "    album_image = album['images'][0]['url'] if album['images'] else None\n",
        "\n",
        "    # Buscar as faixas do álbum\n",
        "    tracks = sp.album_tracks(album['id'])\n",
        "\n",
        "    for track in tracks['items']:\n",
        "        track_id = track['id']\n",
        "        track_name = track['name']\n",
        "        track_number = track['track_number']\n",
        "        duration_ms = track['duration_ms']\n",
        "\n",
        "        # Obter popularidade da faixa\n",
        "        track_info = sp.track(track_id)\n",
        "        popularity = track_info['popularity']\n",
        "\n",
        "        # Adicionar ao dataset\n",
        "        data.append([\n",
        "            album_name, release_date, track_name, track_number, duration_ms, track_id, popularity, collection_date, album_image\n",
        "        ])\n",
        "\n",
        "# Criar DataFrame\n",
        "columns = ['album', 'release_date', 'track_name', 'track_number', 'duration_ms', 'track_id', 'popularity', 'collection_date', 'album_image']\n",
        "df = pd.DataFrame(data, columns=columns)\n",
        "\n",
        "# Salvar como CSV\n",
        "df.to_csv(\"df.csv\", index=False)\n",
        "print(\"Dados salvos com sucesso!\")"
      ]
    }
  ]
}